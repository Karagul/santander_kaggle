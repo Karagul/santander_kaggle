{
 "cells": [
  {
   "cell_type": "code",
   "execution_count": 2,
   "metadata": {},
   "outputs": [],
   "source": [
    "import gc\n",
    "import os\n",
    "import logging\n",
    "import datetime\n",
    "import warnings\n",
    "import numpy as np\n",
    "import pandas as pd\n",
    "import seaborn as sns\n",
    "import lightgbm as lgb\n",
    "from tqdm import tqdm_notebook\n",
    "import matplotlib.pyplot as plt\n",
    "from sklearn.metrics import mean_squared_error\n",
    "from sklearn.metrics import roc_auc_score, roc_curve\n",
    "from sklearn.model_selection import StratifiedKFold\n",
    "warnings.filterwarnings('ignore')"
   ]
  },
  {
   "cell_type": "code",
   "execution_count": 3,
   "metadata": {
    "collapsed": true
   },
   "outputs": [],
   "source": [
    "train = pd.read_csv('train.csv')\n",
    "test  = pd.read_csv('test.csv')"
   ]
  },
  {
   "cell_type": "code",
   "execution_count": null,
   "metadata": {},
   "outputs": [],
   "source": []
  },
  {
   "cell_type": "code",
   "execution_count": 4,
   "metadata": {
    "collapsed": true
   },
   "outputs": [],
   "source": [
    "i = 1\n",
    "for df in [test, train]:\n",
    "    idx = df.columns.values[i:i+200]\n",
    "    df['sum'] = df[idx].sum(axis=1)  \n",
    "    df['min'] = df[idx].min(axis=1)\n",
    "    df['max'] = df[idx].max(axis=1)\n",
    "    df['mean'] = df[idx].mean(axis=1)\n",
    "    df['std'] = df[idx].std(axis=1)\n",
    "    df['skew'] = df[idx].skew(axis=1)\n",
    "    df['kurt'] = df[idx].kurtosis(axis=1)\n",
    "    df['med'] = df[idx].median(axis=1)\n",
    "    i = i + 1"
   ]
  },
  {
   "cell_type": "code",
   "execution_count": null,
   "metadata": {},
   "outputs": [],
   "source": []
  },
  {
   "cell_type": "code",
   "execution_count": 5,
   "metadata": {
    "collapsed": true
   },
   "outputs": [],
   "source": [
    "features = [c for c in train.columns if c not in ['ID_code', 'target']]\n",
    "target = train['target']"
   ]
  },
  {
   "cell_type": "code",
   "execution_count": 6,
   "metadata": {
    "collapsed": true
   },
   "outputs": [],
   "source": [
    "param = {\n",
    "        'num_leaves': 6,\n",
    "        'max_bin': 63,\n",
    "        'min_data_in_leaf': 45,\n",
    "        'learning_rate': 0.01,\n",
    "        'min_sum_hessian_in_leaf': 0.000446,\n",
    "        'bagging_fraction': 0.55, \n",
    "        'bagging_freq': 5, \n",
    "        'max_depth': 14,\n",
    "        'save_binary': True,\n",
    "        'seed': 31452,\n",
    "        'feature_fraction_seed': 31415,\n",
    "         'feature_fraction': 0.51,\n",
    "        'bagging_seed': 31415,\n",
    "        'drop_seed': 31415,\n",
    "        'data_random_seed': 31415,\n",
    "        'objective': 'binary',\n",
    "        'boosting_type': 'gbdt',\n",
    "        'verbose': 1,\n",
    "        'metric': 'auc',\n",
    "        'is_unbalance': True,\n",
    "        'boost_from_average': False,\n",
    "    }"
   ]
  },
  {
   "cell_type": "code",
   "execution_count": 7,
   "metadata": {
    "scrolled": true
   },
   "outputs": [
    {
     "name": "stdout",
     "output_type": "stream",
     "text": [
      "Fold 0\n",
      "Training until validation scores don't improve for 250 rounds.\n",
      "[1000]\ttraining's auc: 0.863172\tvalid_1's auc: 0.847699\n",
      "[2000]\ttraining's auc: 0.891477\tvalid_1's auc: 0.872558\n",
      "[3000]\ttraining's auc: 0.904518\tvalid_1's auc: 0.883441\n",
      "[4000]\ttraining's auc: 0.912405\tvalid_1's auc: 0.889064\n",
      "[5000]\ttraining's auc: 0.917619\tvalid_1's auc: 0.892495\n",
      "[6000]\ttraining's auc: 0.921563\tvalid_1's auc: 0.894621\n",
      "[7000]\ttraining's auc: 0.924914\tvalid_1's auc: 0.896006\n",
      "[8000]\ttraining's auc: 0.927911\tvalid_1's auc: 0.896771\n",
      "Early stopping, best iteration is:\n",
      "[8321]\ttraining's auc: 0.928924\tvalid_1's auc: 0.896927\n",
      "Fold 1\n",
      "Training until validation scores don't improve for 250 rounds.\n",
      "[1000]\ttraining's auc: 0.863263\tvalid_1's auc: 0.847759\n",
      "[2000]\ttraining's auc: 0.891265\tvalid_1's auc: 0.872598\n",
      "[3000]\ttraining's auc: 0.90442\tvalid_1's auc: 0.883038\n",
      "[4000]\ttraining's auc: 0.91229\tvalid_1's auc: 0.888896\n",
      "[5000]\ttraining's auc: 0.917622\tvalid_1's auc: 0.892049\n",
      "[6000]\ttraining's auc: 0.921593\tvalid_1's auc: 0.89404\n",
      "[7000]\ttraining's auc: 0.924939\tvalid_1's auc: 0.895292\n",
      "[8000]\ttraining's auc: 0.927906\tvalid_1's auc: 0.895879\n",
      "[9000]\ttraining's auc: 0.930891\tvalid_1's auc: 0.896236\n",
      "Early stopping, best iteration is:\n",
      "[9719]\ttraining's auc: 0.933035\tvalid_1's auc: 0.896388\n",
      "Fold 2\n",
      "Training until validation scores don't improve for 250 rounds.\n",
      "[1000]\ttraining's auc: 0.863292\tvalid_1's auc: 0.849793\n",
      "[2000]\ttraining's auc: 0.8912\tvalid_1's auc: 0.873777\n",
      "[3000]\ttraining's auc: 0.904171\tvalid_1's auc: 0.883845\n",
      "[4000]\ttraining's auc: 0.912157\tvalid_1's auc: 0.889678\n",
      "[5000]\ttraining's auc: 0.917392\tvalid_1's auc: 0.893121\n",
      "[6000]\ttraining's auc: 0.921455\tvalid_1's auc: 0.895238\n",
      "[7000]\ttraining's auc: 0.924626\tvalid_1's auc: 0.896349\n",
      "[8000]\ttraining's auc: 0.927678\tvalid_1's auc: 0.897037\n",
      "[9000]\ttraining's auc: 0.930768\tvalid_1's auc: 0.897413\n",
      "Early stopping, best iteration is:\n",
      "[9390]\ttraining's auc: 0.932001\tvalid_1's auc: 0.897633\n",
      "Fold 3\n",
      "Training until validation scores don't improve for 250 rounds.\n",
      "[1000]\ttraining's auc: 0.862596\tvalid_1's auc: 0.852906\n",
      "[2000]\ttraining's auc: 0.890545\tvalid_1's auc: 0.877155\n",
      "[3000]\ttraining's auc: 0.903578\tvalid_1's auc: 0.88733\n",
      "[4000]\ttraining's auc: 0.911453\tvalid_1's auc: 0.893292\n",
      "[5000]\ttraining's auc: 0.916764\tvalid_1's auc: 0.89681\n",
      "[6000]\ttraining's auc: 0.920747\tvalid_1's auc: 0.898783\n",
      "[7000]\ttraining's auc: 0.924106\tvalid_1's auc: 0.899975\n",
      "[8000]\ttraining's auc: 0.92716\tvalid_1's auc: 0.900783\n",
      "[9000]\ttraining's auc: 0.930282\tvalid_1's auc: 0.901196\n",
      "Early stopping, best iteration is:\n",
      "[9498]\ttraining's auc: 0.931787\tvalid_1's auc: 0.901373\n",
      "Fold 4\n",
      "Training until validation scores don't improve for 250 rounds.\n",
      "[1000]\ttraining's auc: 0.863123\tvalid_1's auc: 0.846817\n",
      "[2000]\ttraining's auc: 0.891032\tvalid_1's auc: 0.871987\n",
      "[3000]\ttraining's auc: 0.904219\tvalid_1's auc: 0.882589\n",
      "[4000]\ttraining's auc: 0.912121\tvalid_1's auc: 0.888987\n",
      "[5000]\ttraining's auc: 0.91745\tvalid_1's auc: 0.892546\n",
      "[6000]\ttraining's auc: 0.921412\tvalid_1's auc: 0.894692\n",
      "[7000]\ttraining's auc: 0.924732\tvalid_1's auc: 0.896029\n",
      "[8000]\ttraining's auc: 0.927831\tvalid_1's auc: 0.896824\n",
      "[9000]\ttraining's auc: 0.930955\tvalid_1's auc: 0.897233\n",
      "[10000]\ttraining's auc: 0.93395\tvalid_1's auc: 0.897402\n",
      "Early stopping, best iteration is:\n",
      "[9837]\ttraining's auc: 0.933475\tvalid_1's auc: 0.897411\n",
      "CV score: 0.89793 \n"
     ]
    }
   ],
   "source": [
    "folds = StratifiedKFold(n_splits=5, shuffle=True, random_state=31415)\n",
    "oof = np.zeros(len(train))\n",
    "predictions = np.zeros(len(test))\n",
    "feature_importance_df = pd.DataFrame()\n",
    "\n",
    "for fold_, (trn_idx, val_idx) in enumerate(folds.split(train.values, target.values)):\n",
    "    print(\"Fold {}\".format(fold_))\n",
    "    trn_data = lgb.Dataset(train.iloc[trn_idx][features], label=target.iloc[trn_idx])\n",
    "    val_data = lgb.Dataset(train.iloc[val_idx][features], label=target.iloc[val_idx])\n",
    "\n",
    "    num_round = 15000\n",
    "    clf = lgb.train(param, trn_data, num_round, valid_sets = [trn_data, val_data], verbose_eval=1000, early_stopping_rounds = 250)\n",
    "    oof[val_idx] = clf.predict(train.iloc[val_idx][features], num_iteration=clf.best_iteration)\n",
    "    \n",
    "    fold_importance_df = pd.DataFrame()\n",
    "    fold_importance_df[\"Feature\"] = features\n",
    "    fold_importance_df[\"importance\"] = clf.feature_importance()\n",
    "    fold_importance_df[\"fold\"] = fold_ + 1\n",
    "    feature_importance_df = pd.concat([feature_importance_df, fold_importance_df], axis=0)\n",
    "    \n",
    "    predictions += clf.predict(test[features], num_iteration=clf.best_iteration) / folds.n_splits\n",
    "\n",
    "print(\"CV score: {:<8.5f}\".format(roc_auc_score(target, oof)))"
   ]
  },
  {
   "cell_type": "code",
   "execution_count": 8,
   "metadata": {
    "collapsed": true
   },
   "outputs": [],
   "source": [
    "cols = (feature_importance_df[[\"Feature\", \"importance\"]]\n",
    "        .groupby(\"Feature\")\n",
    "        .mean()\n",
    "        .sort_values(by=\"importance\", ascending=False)[:150].index)\n",
    "best_features = feature_importance_df.loc[feature_importance_df.Feature.isin(cols)]\n",
    "\n",
    "plt.figure(figsize=(14,28))\n",
    "sns.barplot(x=\"importance\", y=\"Feature\", data=best_features.sort_values(by=\"importance\",ascending=False))\n",
    "plt.title('Features importance (averaged/folds)')\n",
    "plt.tight_layout()\n",
    "plt.savefig('FI.png')"
   ]
  },
  {
   "cell_type": "code",
   "execution_count": 9,
   "metadata": {
    "collapsed": true
   },
   "outputs": [],
   "source": [
    "sub_df = pd.DataFrame({\"ID_code\":test[\"ID_code\"].values})\n",
    "sub_df[\"target\"] = predictions\n",
    "sub_df.to_csv(\"submission.csv\", index=False)"
   ]
  }
 ],
 "metadata": {
  "kernelspec": {
   "display_name": "Python 3",
   "language": "python",
   "name": "python3"
  },
  "language_info": {
   "codemirror_mode": {
    "name": "ipython",
    "version": 3
   },
   "file_extension": ".py",
   "mimetype": "text/x-python",
   "name": "python",
   "nbconvert_exporter": "python",
   "pygments_lexer": "ipython3",
   "version": "3.6.8"
  }
 },
 "nbformat": 4,
 "nbformat_minor": 2
}
